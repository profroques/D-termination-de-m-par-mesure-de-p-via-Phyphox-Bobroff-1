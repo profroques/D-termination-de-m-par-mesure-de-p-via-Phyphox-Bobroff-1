{
  "nbformat": 4,
  "nbformat_minor": 0,
  "metadata": {
    "colab": {
      "name": "Essai incertitude type A sur un 4 valeurs.ipynb",
      "provenance": []
    },
    "kernelspec": {
      "name": "python3",
      "display_name": "Python 3"
    }
  },
  "cells": [
    {
      "cell_type": "markdown",
      "metadata": {
        "id": "NYs9fg2JuEK8",
        "colab_type": "text"
      },
      "source": [
        "Compléter le code en compléter la liste \"valeurs\" par les valeurs mesurées. Séparer chacune d'elle par une virgule.\n",
        "\n",
        "---\n",
        "\n"
      ]
    },
    {
      "cell_type": "code",
      "metadata": {
        "id": "BdTu8DIWq0Dm",
        "colab_type": "code",
        "colab": {}
      },
      "source": [
        "import math\n",
        "valeurs = [2,4,3,5,6]\n",
        "N = len(valeurs)\n"
      ],
      "execution_count": 0,
      "outputs": []
    },
    {
      "cell_type": "markdown",
      "metadata": {
        "id": "T3b3uzERtzP0",
        "colab_type": "text"
      },
      "source": [
        "Déclaration des fonctions \"moyenne\"/ \"Ecart-Type\" et Incetitude type\n",
        "\n",
        "---\n",
        "\n"
      ]
    },
    {
      "cell_type": "code",
      "metadata": {
        "id": "c_ipIZfJt509",
        "colab_type": "code",
        "colab": {}
      },
      "source": [
        "\n",
        "def moyenne(valeurs):\n",
        "  return sum(valeurs)/N\n",
        "\n",
        "def ecart_type (valeurs):\n",
        "  V = 0\n",
        "  moy = moyenne(valeurs)\n",
        "  for i in range(N):\n",
        "    V = V + (valeurs[i]-moy)**2\n",
        "    return math.sqrt ((V/(N-1)))\n",
        "\n",
        "def incertitude (valeurs):\n",
        "  return ecart_type(valeurs)/math.sqrt(N)\n"
      ],
      "execution_count": 0,
      "outputs": []
    },
    {
      "cell_type": "markdown",
      "metadata": {
        "id": "hNOcK9LTt9ni",
        "colab_type": "text"
      },
      "source": [
        "Affichage des valeurs calculées\n",
        "Remplacer la partie \"A compléter\" par une saisie adaptée en vue d'afficher la valeur l'incertitude calculée"
      ]
    },
    {
      "cell_type": "code",
      "metadata": {
        "id": "hljYBivMuDSF",
        "colab_type": "code",
        "colab": {
          "base_uri": "https://localhost:8080/",
          "height": 68
        },
        "outputId": "90b41f15-463f-413d-fad1-bdf12b1878cc"
      },
      "source": [
        "print(\"La moyenne vaut : \",moyenne(valeurs))\n",
        "print(\"L'écart-type vaut : \",ecart_type(valeurs))\n",
        "print(\"L'incertitude vaut : \",--A COMPLETER--)"
      ],
      "execution_count": 15,
      "outputs": [
        {
          "output_type": "stream",
          "text": [
            "La moyenne vaut :  4.0\n",
            "L'écart-type vaut :  1.0\n",
            "L'incertitude vaut :  0.4472135954999579\n"
          ],
          "name": "stdout"
        }
      ]
    }
  ]
}